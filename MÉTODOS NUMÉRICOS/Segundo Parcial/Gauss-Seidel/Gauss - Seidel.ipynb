{
 "cells": [
  {
   "cell_type": "code",
   "execution_count": 6,
   "metadata": {
    "collapsed": false
   },
   "outputs": [
    {
     "name": "stdout",
     "output_type": "stream",
     "text": [
      "La solución es:  0.0008929310325885963 0.31780385068008316 0.34107017056519007\n"
     ]
    }
   ],
   "source": [
    "\n",
    "#Gauss - Seidel\n",
    "# 2x1 + x2 - x3 = 0\n",
    "# 2x1 + 5x2 + 2x3 = 3\n",
    "# x1 + 2x2 + 4x3 = 11\n",
    "\n",
    "#En la serie sustituyo aquí\n",
    "def getx1(x2,x3):\n",
    "    return (x3-x2)/32\n",
    "\n",
    "def getx2(x1,x3):\n",
    "    return (16-16.5*x1-16.5*x3)/32.5\n",
    "\n",
    "def getx3(x1,x2):\n",
    "    return (16-x1-16*x2)/32\n",
    "#En la serie sustituyo aquí\n",
    "\n",
    "x1 = 1\n",
    "x2 = 1.5\n",
    "x3 = 2\n",
    "E = 0.01\n",
    "for i in range(100):\n",
    "    x1i = getx1(x2,x3)\n",
    "    x2i = getx2(x1i,x3)\n",
    "    x3i = getx3(x1i,x2i)\n",
    "    Ex1 = abs(x1-x1i)\n",
    "    Ex2 = abs(x2-x2i)\n",
    "    Ex3 = abs(x3-x3i)\n",
    "    x1 = x1i\n",
    "    x2 = x2i\n",
    "    x3 = x3i\n",
    "    if Ex1 < E and Ex2 < E and Ex3 < E:\n",
    "        break\n",
    "print(\"La solución es: \", x1, x2, x3)"
   ]
  },
  {
   "cell_type": "code",
   "execution_count": 0,
   "metadata": {
    "collapsed": false
   },
   "outputs": [
   ],
   "source": [
   ]
  }
 ],
 "metadata": {
  "kernelspec": {
   "display_name": "Python 3 (Anaconda 5)",
   "language": "python",
   "name": "anaconda5"
  }
 },
 "nbformat": 4,
 "nbformat_minor": 0
}