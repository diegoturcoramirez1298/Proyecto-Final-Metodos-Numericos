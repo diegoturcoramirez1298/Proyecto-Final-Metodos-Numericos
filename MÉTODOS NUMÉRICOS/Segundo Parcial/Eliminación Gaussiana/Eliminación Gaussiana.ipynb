{
 "cells": [
  {
   "cell_type": "code",
   "execution_count": 0,
   "metadata": {
    "collapsed": false
   },
   "outputs": [
   ],
   "source": [
    "# Eliminación Gaussiana\n",
    "# 2x1 + x2 - x3 = 0\n",
    "# 2x1 + 5x2 + 2x3 = 3\n",
    "# x1 + 2x2 + 4x3 = 11\n",
    "\n",
    "def createMatriz(m,n,v):\n",
    "    C = []\n",
    "    for i in range(m):\n",
    "        C.append([])\n",
    "        for j in range(n):\n",
    "            C[i].append(v)\n",
    "    return C\n",
    "\n",
    "#En la serie sustituyo aquí\n",
    "MA =  createMatriz(3,4,0) \n",
    "MA[0] = [4,1,-1,0]\n",
    "MA[1] = [2,5,2,3]\n",
    "MA[2] = [1,2,4,11]\n",
    "\n",
    "MAm = 3\n",
    "MAn = 4\n",
    "#En la serie sustituyo aquí\n",
    "\n",
    "for i in range(MAm):\n",
    "    pivote = MA[i][i]\n",
    "    if pivote == 0: #Intercambio de renglones\n",
    "        for j in range(i+1,MAm):\n",
    "            pivote = MA[j][i]\n",
    "            if pivote != 0:\n",
    "                T = MA[i]\n",
    "                MA[i] = MA[j]\n",
    "                MA[j] = T\n",
    "                break\n",
    "    for k in range(MAn):\n",
    "        MA[i][k] = (1/pivote)*MA[i][k]\n",
    "    for j in range(i+1,MAm):\n",
    "        c = -1*MA[j][i]\n",
    "        T = createMatriz(1,MAn,0)\n",
    "        for k in range(MAn):\n",
    "            T[0][k] = c*MA[i][k]\n",
    "        for k in range(MAn):\n",
    "            MA[j][k] += T[0][k]\n",
    "print(\"EG\",MA)\n",
    "B = createMatriz(3,1,0)\n",
    "for i in range(MAm-1, -1, -1):\n",
    "    B[i][0] = MA[i][MAn-1]\n",
    "    for j in range(MAn-2, -1, -1):\n",
    "        if i == j:\n",
    "            break\n",
    "        B[i][0] -= MA[i][j] * B[j][0]\n",
    "print(B)"
   ]
  },
  {
   "cell_type": "code",
   "execution_count": 0,
   "metadata": {
    "collapsed": false
   },
   "outputs": [
   ],
   "source": [
   ]
  }
 ],
 "metadata": {
  "kernelspec": {
   "display_name": "Python 3 (Anaconda 5)",
   "language": "python",
   "name": "anaconda5"
  },
  "language_info": {
   "codemirror_mode": {
    "name": "ipython",
    "version": 3
   },
   "file_extension": ".py",
   "mimetype": "text/x-python",
   "name": "python",
   "nbconvert_exporter": "python",
   "pygments_lexer": "ipython3",
   "version": "3.6.5"
  }
 },
 "nbformat": 4,
 "nbformat_minor": 0
}