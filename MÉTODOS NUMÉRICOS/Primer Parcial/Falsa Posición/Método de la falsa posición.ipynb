{
 "cells": [
  {
   "cell_type": "code",
   "execution_count": 2,
   "metadata": {
    "collapsed": false
   },
   "outputs": [
    {
     "name": "stdout",
     "output_type": "stream",
     "text": [
      "la raiz es 3.16065\n",
      "con iteracions 12\n"
     ]
    }
   ],
   "source": [
    "#ejemplo del paracaidas\n",
    "import math\n",
    "import numpy as np\n",
    "import matplotlib.pyplot as plt\n",
    "#def fun(c):\n",
    "#    return(667.38/c)*(1-math.exp(-0.1484*c))-40\n",
    "def fun(c):\n",
    "    return c**2 - 10\n",
    "#arraylen = 100\n",
    "#cIni = 3\n",
    "#cEnd = 3.2\n",
    "#carray = np.linspace(cIni,cEnd,arraylen)\n",
    "#fcarray = np.zeros(100)\n",
    "\n",
    "#for i in range(arraylen):\n",
    "    fcarray[i] = fun(carray[i])\n",
    "    \n",
    "#plt.plot(carray, fcarray)\n",
    "#plt.grid()\n",
    "\n",
    "c0 = 3\n",
    "c1 = 3.2\n",
    "maxIter = 100\n",
    "itera = 0\n",
    "for i in range(maxIter):\n",
    "    itera +=1\n",
    "    fc0 = fun(c0)\n",
    "    fc1 = fun(c1)\n",
    "    if fc0 * fc1 > 0:\n",
    "        print(\"No hay raiz en este rango\")\n",
    "        break\n",
    "    cr = c0-(fc1*(c1-c0)/(fc0-fc1))\n",
    "    fcr = fun(cr)\n",
    "    if fc0 * fcr < 0:\n",
    "        c1 = cr\n",
    "    else:\n",
    "        c0 = cr\n",
    "    if abs(fcr) < 0.005:\n",
    "        break\n",
    "print(\"la raiz es %.5f\"%c0)\n",
    "print(\"con iteracions %i\"%itera)"
   ]
  },
  {
   "cell_type": "code",
   "execution_count": 0,
   "metadata": {
    "collapsed": false
   },
   "outputs": [
   ],
   "source": [
   ]
  }
 ],
 "metadata": {
  "kernelspec": {
   "display_name": "Python 3 (Anaconda 5)",
   "language": "python",
   "name": "anaconda5"
  },
  "language_info": {
   "codemirror_mode": {
    "name": "ipython",
    "version": 3
   },
   "file_extension": ".py",
   "mimetype": "text/x-python",
   "name": "python",
   "nbconvert_exporter": "python",
   "pygments_lexer": "ipython3",
   "version": "3.6.5"
  }
 },
 "nbformat": 4,
 "nbformat_minor": 0
}