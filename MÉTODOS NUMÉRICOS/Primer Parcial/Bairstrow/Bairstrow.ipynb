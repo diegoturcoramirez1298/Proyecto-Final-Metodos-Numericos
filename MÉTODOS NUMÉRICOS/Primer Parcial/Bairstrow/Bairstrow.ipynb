{
 "cells": [
  {
   "cell_type": "code",
   "execution_count": 1,
   "metadata": {
    "collapsed": false
   },
   "outputs": [
    {
     "name": "stdout",
     "output_type": "stream",
     "text": [
      "-0.4996864736675088 0.5002023199048259\n",
      "[-2.4984025935095384, 5.248791549707377, -3.999686473667509, 1]\n",
      "[0.0008550283635022637, -0.0011243083869842962, -2.4984025935095384, 5.248791549707377, -3.999686473667509, 1]\n",
      "1.9926127269492344 -1.2405859613804662\n",
      "[-2.0070737467182744, 1]\n",
      "[0.009249078347352668, 0.008884896690393163, -2.0070737467182744, 1]\n",
      "[2.0070737467182744, [(0.9963063634746172, 0.49795541113683073), (0.9963063634746172, -0.49795541113683073)], [(0.5002394005445503, 0), (-0.9999258742120591, 0)]]\n"
     ]
    }
   ],
   "source": [
    "#Ejemplo Bairstow \n",
    "# f(x) = x^5 -3.5x^4 +2.75x^3 +2.125x^2 -3.875x + 1.25\n",
    "#[1.25,-3.875,2.125,2.75,-3.5,1]\n",
    "import math\n",
    "\n",
    "def cuadratica(a,b,c):\n",
    "    discriminante = b**2 - 4*a*c\n",
    "    if discriminante > 0:\n",
    "        rdiscriminante = math.sqrt(discriminante)\n",
    "        x1 = (-b + rdiscriminante )/(2*a)\n",
    "        x2 = (-b - rdiscriminante )/(2*a)\n",
    "        return [(x1,0),(x2,0)]\n",
    "    if discriminante == 0:\n",
    "        x = -b / (2*a)\n",
    "        return [(x,0),(x,0)]\n",
    "    xr = -b / (2*a)\n",
    "    xi = math.sqrt(abs(discriminante)) / (2*a)\n",
    "    return [(xr,xi),(xr,-xi)]\n",
    "\n",
    "def bn(a):\n",
    "    return a[-1]\n",
    "def bn1(a,b,r):\n",
    "    return a[-2] + r*b\n",
    "# [bn1, bn]\n",
    "def bi(i,a,r,s,b):\n",
    "    return a[i] + r*b[0] + s*b[1]\n",
    "\n",
    "def cn(b):\n",
    "    return bn(b)\n",
    "def cn1(b,c,r):\n",
    "    return bn1(b,c,r)\n",
    "def ci(i,b,r,s,c):\n",
    "    return bi(i,b,r,s,c)\n",
    "r = -1\n",
    "s = -1\n",
    "b = []\n",
    "raices = []\n",
    "a = [1.25,-3.875,2.125,2.75,-3.5,1]\n",
    "while True:\n",
    "    for i in range(100):\n",
    "        b = []\n",
    "        c = []\n",
    "        b.append(bn(a))\n",
    "        b.insert(0, bn1(a,b[0],r))\n",
    "        limit = len(a) - 2\n",
    "        for i in reversed(range(0,limit)):\n",
    "            b.insert(0,bi(i,a,r,s,b))\n",
    "\n",
    "        c.append(cn(b))\n",
    "        c.insert(0,cn1(b,c[0],r))\n",
    "        for i in reversed(range(0,limit)):\n",
    "            c.insert(0,ci(i,b,r,s,c))\n",
    "\n",
    "        def deltaS(b,c):\n",
    "            return ((-b[1]/c[2]) + (b[0]/c[1])) / ((c[3]/c[2]) - (c[2]/c[1]))\n",
    "\n",
    "        def deltaR(b,c,dS):\n",
    "            return (-b[0]/c[1]) - ((c[2]/c[1])* dS)\n",
    "\n",
    "        dS = deltaS(b,c)\n",
    "        dR = deltaR(b,c,dS)\n",
    "\n",
    "        if abs(dS) < 0.01 and abs(dR) < 0.01:\n",
    "            break\n",
    "        r = r + dR\n",
    "        s = s + dS\n",
    "    print(r,s)\n",
    "    raices.insert(0,cuadratica(1,-r,-s))\n",
    "    #Actualizar el siguiente polinomio\n",
    "    a = b[2:]\n",
    "    print(a)\n",
    "    print(b)\n",
    "    grade = len(a)\n",
    "    if grade == 3: #El polinomio es de grado 2\n",
    "        raices.insert(0,cuadratica(a[2],a[1],a[0]))\n",
    "        break\n",
    "    if grade == 2: #El polinomio es de grado 1\n",
    "        raices.insert(0,-a[0]/a[1])\n",
    "        break\n",
    "\n",
    "print(raices)\n",
    "    "
   ]
  },
  {
   "cell_type": "code",
   "execution_count": 0,
   "metadata": {
    "collapsed": false
   },
   "outputs": [
   ],
   "source": [
   ]
  }
 ],
 "metadata": {
  "kernelspec": {
   "display_name": "Python 3 (Anaconda 5)",
   "language": "python",
   "name": "anaconda5"
  }
 },
 "nbformat": 4,
 "nbformat_minor": 0
}