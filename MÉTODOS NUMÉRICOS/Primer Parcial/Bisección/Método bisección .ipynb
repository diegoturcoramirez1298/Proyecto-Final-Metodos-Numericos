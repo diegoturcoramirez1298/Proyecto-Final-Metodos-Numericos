{
 "cells": [
  {
   "cell_type": "markdown",
   "metadata": {
    "collapsed": false
   },
   "source": [
    "Consiste en encontrar un intervalo donde haya un cambio de signo. Después hay que dividir este intervalo por mitad hasta el error deseado. "
   ]
  },
  {
   "cell_type": "code",
   "execution_count": 2,
   "metadata": {
    "collapsed": false
   },
   "outputs": [
    {
     "name": "stderr",
     "output_type": "stream",
     "text": [
      "/ext/anaconda5/lib/python3.6/site-packages/ipykernel/__main__.py:7: RuntimeWarning: divide by zero encountered in double_scalars\n",
      "/ext/anaconda5/lib/python3.6/site-packages/ipykernel/__main__.py:7: RuntimeWarning: invalid value encountered in double_scalars\n"
     ]
    },
    {
     "name": "stdout",
     "output_type": "stream",
     "text": [
      "No hay raíces en este rango, lo siento güey\n",
      "No hay raíces en este rango, lo siento güey\n",
      "No hay raíces en este rango, lo siento güey\n",
      "No hay raíces en este rango, lo siento güey\n",
      "No hay raíces en este rango, lo siento güey\n",
      "No hay raíces en este rango, lo siento güey\n",
      "No hay raíces en este rango, lo siento güey\n",
      "No hay raíces en este rango, lo siento güey\n",
      "No hay raíces en este rango, lo siento güey\n",
      "No hay raíces en este rango, lo siento güey\n",
      "No hay raíces en este rango, lo siento güey\n",
      "No hay raíces en este rango, lo siento güey\n",
      "No hay raíces en este rango, lo siento güey\n",
      "No hay raíces en este rango, lo siento güey\n",
      "No hay raíces en este rango, lo siento güey\n",
      "No hay raíces en este rango, lo siento güey\n",
      "No hay raíces en este rango, lo siento güey\n",
      "No hay raíces en este rango, lo siento güey\n",
      "No hay raíces en este rango, lo siento güey\n",
      "No hay raíces en este rango, lo siento güey\n",
      "No hay raíces en este rango, lo siento güey\n",
      "No hay raíces en este rango, lo siento güey\n",
      "No hay raíces en este rango, lo siento güey\n",
      "No hay raíces en este rango, lo siento güey\n",
      "No hay raíces en este rango, lo siento güey\n",
      "No hay raíces en este rango, lo siento güey\n",
      "No hay raíces en este rango, lo siento güey\n",
      "No hay raíces en este rango, lo siento güey\n",
      "No hay raíces en este rango, lo siento güey\n",
      "No hay raíces en este rango, lo siento güey\n",
      "No hay raíces en este rango, lo siento güey\n",
      "No hay raíces en este rango, lo siento güey\n",
      "No hay raíces en este rango, lo siento güey\n",
      "No hay raíces en este rango, lo siento güey\n",
      "No hay raíces en este rango, lo siento güey\n",
      "No hay raíces en este rango, lo siento güey\n",
      "No hay raíces en este rango, lo siento güey\n",
      "No hay raíces en este rango, lo siento güey\n",
      "No hay raíces en este rango, lo siento güey\n",
      "No hay raíces en este rango, lo siento güey\n",
      "No hay raíces en este rango, lo siento güey\n",
      "No hay raíces en este rango, lo siento güey\n",
      "No hay raíces en este rango, lo siento güey\n",
      "No hay raíces en este rango, lo siento güey\n",
      "No hay raíces en este rango, lo siento güey\n",
      "No hay raíces en este rango, lo siento güey\n",
      "No hay raíces en este rango, lo siento güey\n",
      "No hay raíces en este rango, lo siento güey\n",
      "No hay raíces en este rango, lo siento güey\n",
      "No hay raíces en este rango, lo siento güey\n",
      "No hay raíces en este rango, lo siento güey\n",
      "No hay raíces en este rango, lo siento güey\n",
      "No hay raíces en este rango, lo siento güey\n",
      "No hay raíces en este rango, lo siento güey\n",
      "No hay raíces en este rango, lo siento güey\n",
      "No hay raíces en este rango, lo siento güey\n",
      "No hay raíces en este rango, lo siento güey\n",
      "No hay raíces en este rango, lo siento güey\n",
      "No hay raíces en este rango, lo siento güey\n",
      "No hay raíces en este rango, lo siento güey\n",
      "No hay raíces en este rango, lo siento güey\n",
      "No hay raíces en este rango, lo siento güey\n",
      "No hay raíces en este rango, lo siento güey\n",
      "No hay raíces en este rango, lo siento güey\n",
      "No hay raíces en este rango, lo siento güey\n",
      "No hay raíces en este rango, lo siento güey\n",
      "No hay raíces en este rango, lo siento güey\n",
      "No hay raíces en este rango, lo siento güey\n",
      "No hay raíces en este rango, lo siento güey\n",
      "No hay raíces en este rango, lo siento güey\n",
      "No hay raíces en este rango, lo siento güey\n",
      "No hay raíces en este rango, lo siento güey\n",
      "No hay raíces en este rango, lo siento güey\n",
      "No hay raíces en este rango, lo siento güey\n",
      "No hay raíces en este rango, lo siento güey\n",
      "No hay raíces en este rango, lo siento güey\n",
      "No hay raíces en este rango, lo siento güey\n",
      "No hay raíces en este rango, lo siento güey\n",
      "No hay raíces en este rango, lo siento güey\n",
      "No hay raíces en este rango, lo siento güey\n",
      "No hay raíces en este rango, lo siento güey\n",
      "No hay raíces en este rango, lo siento güey\n",
      "No hay raíces en este rango, lo siento güey\n",
      "No hay raíces en este rango, lo siento güey\n",
      "No hay raíces en este rango, lo siento güey\n",
      "No hay raíces en este rango, lo siento güey\n",
      "No hay raíces en este rango, lo siento güey\n",
      "No hay raíces en este rango, lo siento güey\n",
      "No hay raíces en este rango, lo siento güey\n",
      "No hay raíces en este rango, lo siento güey\n",
      "No hay raíces en este rango, lo siento güey\n",
      "No hay raíces en este rango, lo siento güey\n",
      "No hay raíces en este rango, lo siento güey\n",
      "No hay raíces en este rango, lo siento güey\n",
      "No hay raíces en este rango, lo siento güey\n",
      "No hay raíces en este rango, lo siento güey\n",
      "No hay raíces en este rango, lo siento güey\n",
      "No hay raíces en este rango, lo siento güey\n",
      "No hay raíces en este rango, lo siento güey\n",
      "No hay raíces en este rango, lo siento güey\n",
      "La raíz es 3.20000\n",
      "Con iteración 100\n"
     ]
    },
    {
     "data": {
      "image/png": "[encoded data removed]"
     },
     "execution_count": 2,
     "metadata": {
      "image/png": {
       "height": 250,
       "width": 370
      }
     },
     "output_type": "execute_result"
    }
   ],
   "source": [
    "#Ejemplo de paracaídas\n",
    "import math\n",
    "import numpy as np\n",
    "import matplotlib.pyplot as plt\n",
    "\n",
    "def fun(c):\n",
    "       return (667.38/c)*(1-math.exp(-0.1484*c))-40\n",
    "\n",
    "arrayLen = 100\n",
    "cIni = 0\n",
    "cEnd = 1\n",
    "carray = np.linspace(cIni,cEnd,arrayLen)\n",
    "fcarray = np.zeros(arrayLen)\n",
    "\n",
    "for i in range(arrayLen):\n",
    "    fcarray[i] = fun(carray[i])\n",
    "\n",
    "plt.plot(carray, fcarray)\n",
    "plt.grid()\n",
    "\n",
    "c0 = 1\n",
    "c1 = 3.2\n",
    "maxIter = 100\n",
    "itera = 0 \n",
    "for i in range(maxIter):\n",
    "    itera += 1\n",
    "    fc0 = fun(c0)\n",
    "    fc1 = fun(c1)\n",
    "    if fc0 * fc1 > 0:\n",
    "        print(\"No hay raíces en este rango, lo siento güey\")\n",
    "    cr = (c0 + c1) / 2\n",
    "    fcr = fun(cr)\n",
    "    if fc0 * fcr < 0:\n",
    "        c1 = cr\n",
    "    else:\n",
    "        c0 = cr\n",
    "    if abs(fcr) < 0.0001:\n",
    "        break\n",
    "print(\"La raíz es %.5f\"%c0)\n",
    "print(\"Con iteración %i\"%itera)"
   ]
  },
  {
   "cell_type": "code",
   "execution_count": 0,
   "metadata": {
    "collapsed": false
   },
   "outputs": [
   ],
   "source": [
   ]
  }
 ],
 "metadata": {
  "kernelspec": {
   "display_name": "Python 3 (Anaconda 5)",
   "language": "python",
   "name": "anaconda5"
  },
  "language_info": {
   "codemirror_mode": {
    "name": "ipython",
    "version": 3
   },
   "file_extension": ".py",
   "mimetype": "text/x-python",
   "name": "python",
   "nbconvert_exporter": "python",
   "pygments_lexer": "ipython3",
   "version": "3.6.5"
  }
 },
 "nbformat": 4,
 "nbformat_minor": 0
}