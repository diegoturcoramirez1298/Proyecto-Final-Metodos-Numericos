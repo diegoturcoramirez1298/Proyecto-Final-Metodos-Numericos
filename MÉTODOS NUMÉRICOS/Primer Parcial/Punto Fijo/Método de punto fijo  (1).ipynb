{
 "cells": [
  {
   "cell_type": "markdown",
   "metadata": {
    "collapsed": false
   },
   "source": [
    "Despejar la variable, dar un valor incial y actualizar hasta que sea cercano a cero"
   ]
  },
  {
   "cell_type": "code",
   "execution_count": 5,
   "metadata": {
    "collapsed": false
   },
   "outputs": [
    {
     "name": "stdout",
     "output_type": "stream",
     "text": [
      "La raíz es 1.000000\n",
      "Usando 59 iteraciones\n"
     ]
    }
   ],
   "source": [
    "def xnew(x):\n",
    "    return (2*x**2 + 3)/5\n",
    "x0 = 0\n",
    "x1= 0\n",
    "itera = 0\n",
    "for i in range (100):\n",
    "    x1 = xnew(x0)\n",
    "    if abs(x1 - x0) < 0.001:\n",
    "        break\n",
    "    x0 = x1\n",
    "    itera +=1\n",
    "print(\"La raíz es %5f\"%x1)\n",
    "print(\"Usando %i iteraciones\"%itera)"
   ]
  },
  {
   "cell_type": "code",
   "execution_count": 0,
   "metadata": {
    "collapsed": false
   },
   "outputs": [
   ],
   "source": [
   ]
  }
 ],
 "metadata": {
  "kernelspec": {
   "display_name": "Python 3 (Anaconda 5)",
   "language": "python",
   "name": "anaconda5"
  },
  "language_info": {
   "codemirror_mode": {
    "name": "ipython",
    "version": 3
   },
   "file_extension": ".py",
   "mimetype": "text/x-python",
   "name": "python",
   "nbconvert_exporter": "python",
   "pygments_lexer": "ipython3",
   "version": "3.6.5"
  }
 },
 "nbformat": 4,
 "nbformat_minor": 0
}